{
 "cells": [
  {
   "cell_type": "code",
   "execution_count": 1,
   "id": "7fde0a1f-6c36-4aca-89f9-8b3ed681ce34",
   "metadata": {},
   "outputs": [
    {
     "name": "stdout",
     "output_type": "stream",
     "text": [
      "ml-agents already installed\n"
     ]
    }
   ],
   "source": [
    "try:\n",
    "    import mlagents\n",
    "    print(\"ml-agents already installed\")\n",
    "except ImportError:\n",
    "    !python -m pip install -q mlagents==0.27.0\n",
    "    print(\"Installed ml-agents\")"
   ]
  },
  {
   "cell_type": "markdown",
   "id": "da7be426-8896-4e81-9e1e-7a9919852e71",
   "metadata": {},
   "source": [
    "# Q-Learning Keras"
   ]
  },
  {
   "cell_type": "code",
   "execution_count": 56,
   "id": "b5314e27-74d6-47d2-aaa1-909ac74b4bcc",
   "metadata": {},
   "outputs": [
    {
     "name": "stdout",
     "output_type": "stream",
     "text": [
      "[PhysicalDevice(name='/physical_device:GPU:0', device_type='GPU')]\n"
     ]
    }
   ],
   "source": [
    "import random\n",
    "import tensorflow as tf\n",
    "import numpy as np\n",
    "import datetime\n",
    "import traceback\n",
    "from collections import Counter\n",
    "from tensorflow.keras.models import Sequential\n",
    "from tensorflow.keras.layers import Input, Dense, LayerNormalization, Conv2D, Flatten, concatenate\n",
    "from tensorflow.keras import Model\n",
    "from tensorflow.keras.optimizers import Adam, SGD, RMSprop\n",
    "from tensorflow.keras.losses import Huber, LogCosh, CategoricalCrossentropy, MeanSquaredError\n",
    "from tensorflow.keras.callbacks import TensorBoard\n",
    "from tensorflow.keras.utils import plot_model\n",
    "\n",
    "from mlagents_envs.environment import UnityEnvironment\n",
    "from mlagents_envs.environment import ActionTuple, BaseEnv\n",
    "\n",
    "print(tf.config.list_physical_devices('GPU'))"
   ]
  },
  {
   "cell_type": "markdown",
   "id": "8468de0a-eef4-458f-8a60-d2e078f16299",
   "metadata": {
    "tags": []
   },
   "source": [
    "# Deep Q-Learning"
   ]
  },
  {
   "cell_type": "code",
   "execution_count": 3,
   "id": "a9b0d7f8-9c37-4015-b1e1-05ea0e267a31",
   "metadata": {
    "tags": []
   },
   "outputs": [],
   "source": [
    "behavior_name = 'AlphaRomeo?team=0'"
   ]
  },
  {
   "cell_type": "code",
   "execution_count": 57,
   "id": "bd2f05b0-3eb1-4411-ba10-8a203ff44474",
   "metadata": {
    "tags": []
   },
   "outputs": [
    {
     "name": "stdout",
     "output_type": "stream",
     "text": [
      "Model: \"model_38\"\n",
      "__________________________________________________________________________________________________\n",
      " Layer (type)                   Output Shape         Param #     Connected to                     \n",
      "==================================================================================================\n",
      " input_27 (InputLayer)          [(None, 84, 84, 3)]  0           []                               \n",
      "                                                                                                  \n",
      " conv2d_42 (Conv2D)             (None, 20, 20, 32)   6176        ['input_27[0][0]']               \n",
      "                                                                                                  \n",
      " conv2d_43 (Conv2D)             (None, 9, 9, 64)     32832       ['conv2d_42[0][0]']              \n",
      "                                                                                                  \n",
      " input_28 (InputLayer)          [(None, 2)]          0           []                               \n",
      "                                                                                                  \n",
      " conv2d_44 (Conv2D)             (None, 7, 7, 64)     36928       ['conv2d_43[0][0]']              \n",
      "                                                                                                  \n",
      " dense_48 (Dense)               (None, 64)           192         ['input_28[0][0]']               \n",
      "                                                                                                  \n",
      " flatten_12 (Flatten)           (None, 3136)         0           ['conv2d_44[0][0]']              \n",
      "                                                                                                  \n",
      " dense_49 (Dense)               (None, 128)          8320        ['dense_48[0][0]']               \n",
      "                                                                                                  \n",
      " concatenate_12 (Concatenate)   (None, 3264)         0           ['flatten_12[0][0]',             \n",
      "                                                                  'dense_49[0][0]']               \n",
      "                                                                                                  \n",
      " dense_50 (Dense)               (None, 64)           208960      ['concatenate_12[0][0]']         \n",
      "                                                                                                  \n",
      " dense_51 (Dense)               (None, 5)            325         ['dense_50[0][0]']               \n",
      "                                                                                                  \n",
      "==================================================================================================\n",
      "Total params: 293,733\n",
      "Trainable params: 293,733\n",
      "Non-trainable params: 0\n",
      "__________________________________________________________________________________________________\n"
     ]
    }
   ],
   "source": [
    "num_actions = 5\n",
    "\n",
    "\n",
    "def create_q_model():\n",
    "    with tf.device('GPU:0'):\n",
    "        \n",
    "        inputs = Input(shape=(84, 84, 3,))\n",
    "\n",
    "        layer1 = Conv2D(32, 8, strides=4, activation=\"relu\")(inputs)\n",
    "        layer2 = Conv2D(64, 4, strides=2, activation=\"relu\")(layer1)\n",
    "        layer3 = Conv2D(64, 3, strides=1, activation=\"relu\")(layer2)\n",
    "\n",
    "        conv_output = Flatten()(layer3)\n",
    "        \n",
    "        conv_output_model = Model(inputs=inputs, outputs=conv_output)\n",
    "        \n",
    "        numerical_inputs = Input(shape=(2))\n",
    "        layer4 = Dense(64, activation=\"linear\")(numerical_inputs)\n",
    "        numerical_output = Dense(128, activation=\"linear\")(layer4)\n",
    "        \n",
    "        numerical_output_model = Model(inputs=numerical_inputs, outputs=numerical_output)\n",
    "        \n",
    "        combined = concatenate([conv_output_model.output, numerical_output_model.output])\n",
    "\n",
    "        layer5 = Dense(64, activation=\"relu\")(combined)\n",
    "        action = Dense(num_actions, activation=\"linear\")(layer5)\n",
    "\n",
    "        return Model(inputs=[conv_output_model.input, numerical_output_model.input], outputs=action)\n",
    "\n",
    "\n",
    "model = create_q_model()\n",
    "\n",
    "model_target = create_q_model()\n",
    "\n",
    "model.summary()"
   ]
  },
  {
   "cell_type": "code",
   "execution_count": 58,
   "id": "1af3594d-9353-4579-a28f-6c872614bbd5",
   "metadata": {},
   "outputs": [
    {
     "data": {
      "image/png": "[encoded data removed]",
      "text/plain": [
       "<IPython.core.display.Image object>"
      ]
     },
     "execution_count": 58,
     "metadata": {},
     "output_type": "execute_result"
    }
   ],
   "source": [
    "plot_model(model_target, show_shapes=True, show_dtype=True, show_layer_activations=True)"
   ]
  },
  {
   "cell_type": "code",
   "execution_count": 61,
   "id": "aef95d65-5f77-4381-bc73-d258eed240bd",
   "metadata": {
    "tags": []
   },
   "outputs": [],
   "source": [
    "# Configuration paramaters for the whole setup\n",
    "gamma = 0.01  # Discount factor for past rewards\n",
    "epsilon = 0.5  # Epsilon greedy parameter\n",
    "epsilon_min = 0.1  # Minimum epsilon greedy parameter\n",
    "epsilon_max = 1.0  # Maximum epsilon greedy parameter\n",
    "epsilon_interval = (\n",
    "    epsilon_max - epsilon_min\n",
    ")  # Rate at which to reduce chance of random action being taken\n",
    "max_steps_per_episode = 10000\n",
    "batch_size = 128\n",
    "\n",
    "# In the Deepmind paper they use RMSProp however then Adam optimizer\n",
    "# improves training time\n",
    "optimizer = Adam(learning_rate=0.01, clipnorm=1.0)\n",
    "\n",
    "# Memórias de repetição de experiência\n",
    "action_history = []\n",
    "state_conv_history = []\n",
    "state_num_history = []\n",
    "state_conv_next_history = []\n",
    "state_num_next_history = []\n",
    "rewards_history = []\n",
    "done_history = []\n",
    "episode_reward_history = []\n",
    "running_reward = 0\n",
    "episode_count = 0\n",
    "frame_count = 0\n",
    "# Number of frames to take random action and observe output\n",
    "epsilon_random_frames = 10000\n",
    "# Number of frames for exploration\n",
    "epsilon_greedy_frames = 100000.0\n",
    "# Maximum replay length\n",
    "# Note: The Deepmind paper suggests 1000000 however this causes memory issues\n",
    "max_memory_length = 1000000\n",
    "# Train the model after 4 actions\n",
    "update_after_actions = 10\n",
    "# How often to update the target network\n",
    "update_target_network = 200\n",
    "# Using huber loss for stability\n",
    "loss_function =Huber()"
   ]
  },
  {
   "cell_type": "code",
   "execution_count": 62,
   "id": "14cba493-61ca-42d4-bb4f-b87e574be47e",
   "metadata": {
    "tags": []
   },
   "outputs": [
    {
     "name": "stdout",
     "output_type": "stream",
     "text": [
      "A: {1: 122, 2: 18, 5: 22, 4: 22, 3: 15} , running reward: -310000.00 at episode 10, frame count 200\n",
      "A: {1: 369, 2: 46, 5: 72, 4: 53, 3: 54} , running reward: -182000.00 at episode 60, frame count 600\n",
      "A: {1: 483, 2: 66, 5: 86, 4: 79, 3: 77} , running reward: -157777.78 at episode 90, frame count 800\n",
      "A: {1: 581, 2: 100, 5: 105, 4: 105, 3: 97} , running reward: -171666.67 at episode 120, frame count 1000\n",
      "A: {1: 698, 2: 119, 5: 126, 4: 121, 3: 123} , running reward: -180615.38 at episode 130, frame count 1200\n",
      "A: {1: 819, 2: 145, 5: 138, 4: 138, 3: 145} , running reward: -193866.67 at episode 150, frame count 1400\n",
      "A: {1: 918, 2: 179, 5: 152, 4: 166, 3: 166} , running reward: -187263.16 at episode 190, frame count 1600\n",
      "A: {1: 1031, 2: 194, 5: 171, 4: 204, 3: 178} , running reward: -181000.00 at episode 220, frame count 1800\n",
      "A: {1: 1153, 2: 215, 5: 191, 4: 220, 3: 197} , running reward: -184583.33 at episode 240, frame count 2000\n",
      "A: {1: 1254, 2: 245, 5: 215, 4: 243, 3: 216} , running reward: -184222.22 at episode 270, frame count 2200\n",
      "A: {1: 1358, 2: 262, 5: 251, 4: 266, 3: 234} , running reward: -182000.00 at episode 290, frame count 2400\n",
      "A: {1: 1457, 2: 285, 5: 297, 4: 282, 3: 247} , running reward: -186625.00 at episode 320, frame count 2600\n",
      "A: {1: 1558, 2: 305, 5: 321, 4: 316, 3: 266} , running reward: -195764.71 at episode 340, frame count 2800\n",
      "A: {1: 1655, 2: 340, 5: 353, 4: 341, 3: 274} , running reward: -190162.16 at episode 370, frame count 3000\n",
      "A: {1: 1768, 2: 377, 5: 371, 4: 356, 3: 288} , running reward: -188300.00 at episode 400, frame count 3200\n",
      "A: {1: 1882, 2: 403, 5: 384, 4: 384, 3: 304} , running reward: -187767.44 at episode 430, frame count 3400\n",
      "A: {1: 1986, 2: 434, 5: 410, 4: 405, 3: 319} , running reward: -185956.52 at episode 460, frame count 3600\n",
      "A: {1: 2098, 2: 462, 5: 430, 4: 426, 3: 335} , running reward: -181551.02 at episode 490, frame count 3800\n",
      "A: {1: 2214, 2: 491, 5: 447, 4: 442, 3: 355} , running reward: -186627.45 at episode 510, frame count 4000\n",
      "A: {1: 2332, 2: 514, 5: 466, 4: 464, 3: 371} , running reward: -190754.72 at episode 530, frame count 4200\n",
      "A: {1: 2454, 2: 535, 5: 489, 4: 482, 3: 386} , running reward: -193814.81 at episode 540, frame count 4400\n",
      "A: {1: 2579, 2: 563, 5: 499, 4: 494, 3: 409} , running reward: -198214.29 at episode 560, frame count 4600\n",
      "A: {1: 2695, 2: 596, 5: 516, 4: 508, 3: 426} , running reward: -200677.97 at episode 590, frame count 4800\n",
      "A: {1: 2807, 2: 628, 5: 538, 4: 520, 3: 447} , running reward: -206533.33 at episode 600, frame count 5000\n",
      "A: {1: 2920, 2: 659, 5: 560, 4: 534, 3: 465} , running reward: -207935.48 at episode 620, frame count 5200\n",
      "A: {1: 3029, 2: 692, 5: 577, 4: 556, 3: 480} , running reward: -201000.00 at episode 660, frame count 5400\n",
      "A: {1: 3146, 2: 726, 5: 601, 4: 565, 3: 495} , running reward: -203582.09 at episode 670, frame count 5600\n",
      "A: {1: 3257, 2: 765, 5: 616, 4: 583, 3: 509} , running reward: -199828.57 at episode 700, frame count 5800\n",
      "A: {1: 3468, 2: 826, 5: 668, 4: 623, 3: 539} , running reward: -197736.84 at episode 760, frame count 6200\n",
      "A: {1: 3571, 2: 868, 5: 682, 4: 641, 3: 559} , running reward: -195113.92 at episode 790, frame count 6400\n",
      "A: {1: 3685, 2: 897, 5: 698, 4: 668, 3: 571} , running reward: -196518.52 at episode 810, frame count 6600\n",
      "A: {1: 3786, 2: 930, 5: 722, 4: 689, 3: 589} , running reward: -195690.48 at episode 840, frame count 6800\n",
      "A: {1: 3900, 2: 960, 5: 741, 4: 706, 3: 606} , running reward: -193448.28 at episode 870, frame count 7000\n",
      "A: {1: 4028, 2: 976, 5: 760, 4: 720, 3: 627} , running reward: -194157.30 at episode 890, frame count 7200\n",
      "A: {1: 4148, 2: 1010, 5: 773, 4: 735, 3: 642} , running reward: -193260.87 at episode 920, frame count 7400\n",
      "A: {1: 4265, 2: 1046, 5: 788, 4: 747, 3: 660} , running reward: -192936.17 at episode 940, frame count 7600\n",
      "A: {1: 4381, 2: 1073, 5: 803, 4: 765, 3: 681} , running reward: -190907.22 at episode 970, frame count 7800\n",
      "A: {1: 4473, 2: 1124, 5: 822, 4: 781, 3: 700} , running reward: -188380.00 at episode 1000, frame count 8000\n",
      "A: {1: 4586, 2: 1167, 5: 834, 4: 795, 3: 715} , running reward: -187260.00 at episode 1030, frame count 8200\n",
      "A: {1: 4689, 2: 1206, 5: 847, 4: 820, 3: 731} , running reward: -185340.00 at episode 1070, frame count 8400\n",
      "A: {1: 4803, 2: 1232, 5: 865, 4: 839, 3: 752} , running reward: -185540.00 at episode 1090, frame count 8600\n",
      "A: {1: 4914, 2: 1265, 5: 882, 4: 858, 3: 769} , running reward: -186860.00 at episode 1120, frame count 8800\n",
      "A: {1: 5006, 2: 1316, 5: 899, 4: 878, 3: 785} , running reward: -180500.00 at episode 1160, frame count 9000\n",
      "A: {1: 5123, 2: 1350, 5: 915, 4: 893, 3: 801} , running reward: -181020.00 at episode 1180, frame count 9200\n",
      "A: {1: 5227, 2: 1374, 5: 953, 4: 906, 3: 819} , running reward: -182600.00 at episode 1210, frame count 9400\n",
      "A: {1: 5339, 2: 1398, 5: 968, 4: 936, 3: 834} , running reward: -178760.00 at episode 1250, frame count 9600\n",
      "A: {1: 5453, 2: 1427, 5: 988, 4: 950, 3: 855} , running reward: -180420.00 at episode 1270, frame count 9800\n",
      "A: {1: 5574, 2: 1461, 5: 998, 4: 968, 3: 869} , running reward: -176600.00 at episode 1300, frame count 10000\n",
      "A: {1: 5593, 2: 1641, 5: 998, 4: 968, 3: 869} , running reward: -177060.00 at episode 1310, frame count 10200\n",
      "A: {1: 5593, 2: 1841, 5: 998, 4: 968, 3: 869} , running reward: -177060.00 at episode 1310, frame count 10400\n",
      "A: {1: 5593, 2: 2040, 5: 998, 4: 968, 3: 869} , running reward: -195380.00 at episode 1320, frame count 10600\n",
      "A: {1: 5593, 2: 2240, 5: 998, 4: 968, 3: 869} , running reward: -195380.00 at episode 1320, frame count 10800\n",
      "A: {1: 5593, 2: 2440, 5: 998, 4: 968, 3: 869} , running reward: -195380.00 at episode 1320, frame count 11000\n",
      "A: {1: 5593, 2: 2640, 5: 998, 4: 968, 3: 869} , running reward: -195380.00 at episode 1320, frame count 11200\n",
      "A: {1: 5593, 2: 2830, 5: 998, 4: 968, 3: 879} , running reward: -195380.00 at episode 1320, frame count 11400\n",
      "A: {1: 5634, 2: 2920, 5: 998, 4: 976, 3: 939} , running reward: -151520.00 at episode 1330, frame count 11600\n",
      "A: {1: 5803, 2: 2936, 5: 998, 4: 987, 3: 939} , running reward: -149920.00 at episode 1370, frame count 11800\n",
      "A: {1: 5975, 2: 2957, 5: 998, 4: 990, 3: 939} , running reward: -147220.00 at episode 1410, frame count 12000\n",
      "A: {1: 6150, 2: 2978, 5: 998, 4: 990, 3: 939} , running reward: -145140.00 at episode 1450, frame count 12200\n",
      "A: {1: 6326, 2: 2999, 5: 998, 4: 990, 3: 939} , running reward: -145100.00 at episode 1480, frame count 12400\n",
      "A: {1: 6498, 2: 3023, 5: 998, 4: 990, 3: 939} , running reward: -140640.00 at episode 1520, frame count 12600\n",
      "A: {1: 6670, 2: 3047, 5: 998, 4: 990, 3: 939} , running reward: -130840.00 at episode 1560, frame count 12800\n",
      "A: {1: 6842, 2: 3071, 5: 998, 4: 990, 3: 939} , running reward: -122480.00 at episode 1600, frame count 13000\n",
      "A: {1: 7014, 2: 3095, 5: 998, 4: 990, 3: 939} , running reward: -120000.00 at episode 1640, frame count 13200\n",
      "A: {1: 7185, 2: 3120, 5: 998, 4: 990, 3: 939} , running reward: -118420.00 at episode 1680, frame count 13400\n",
      "A: {1: 7354, 2: 3147, 5: 998, 4: 990, 3: 939} , running reward: -115120.00 at episode 1720, frame count 13600\n",
      "A: {1: 7520, 2: 3177, 5: 998, 4: 990, 3: 939} , running reward: -113820.00 at episode 1760, frame count 13800\n",
      "A: {1: 7691, 2: 3202, 5: 998, 4: 990, 3: 939} , running reward: -110160.00 at episode 1800, frame count 14000\n",
      "A: {1: 7863, 2: 3227, 5: 998, 4: 990, 3: 939} , running reward: -109800.00 at episode 1830, frame count 14200\n",
      "A: {1: 8034, 2: 3252, 5: 998, 4: 990, 3: 939} , running reward: -107940.00 at episode 1870, frame count 14400\n",
      "A: {1: 8203, 2: 3279, 5: 998, 4: 990, 3: 939} , running reward: -104660.00 at episode 1910, frame count 14600\n",
      "A: {1: 8374, 2: 3304, 5: 998, 4: 990, 3: 939} , running reward: -102680.00 at episode 1950, frame count 14800\n",
      "A: {1: 8543, 2: 3331, 5: 998, 4: 990, 3: 939} , running reward: -102420.00 at episode 1990, frame count 15000\n",
      "A: {1: 8710, 2: 3360, 5: 998, 4: 990, 3: 939} , running reward: -100920.00 at episode 2030, frame count 15200\n",
      "A: {1: 8876, 2: 3390, 5: 998, 4: 990, 3: 939} , running reward: -100880.00 at episode 2070, frame count 15400\n",
      "A: {1: 9038, 2: 3424, 5: 998, 4: 990, 3: 939} , running reward: -96780.00 at episode 2110, frame count 15600\n",
      "A: {1: 9199, 2: 3459, 5: 998, 4: 990, 3: 939} , running reward: -95060.00 at episode 2150, frame count 15800\n",
      "A: {1: 9347, 2: 3506, 5: 998, 4: 990, 3: 939} , running reward: -90720.00 at episode 2200, frame count 16000\n",
      "A: {1: 9513, 2: 3536, 5: 998, 4: 990, 3: 939} , running reward: -90700.00 at episode 2240, frame count 16200\n",
      "A: {1: 9667, 2: 3578, 5: 998, 4: 990, 3: 939} , running reward: -87120.00 at episode 2280, frame count 16400\n",
      "A: {1: 9822, 2: 3619, 5: 998, 4: 990, 3: 939} , running reward: -67680.00 at episode 2320, frame count 16600\n",
      "A: {1: 9986, 2: 3651, 5: 998, 4: 990, 3: 939} , running reward: -107460.00 at episode 2360, frame count 16800\n",
      "A: {1: 10147, 2: 3686, 5: 998, 4: 990, 3: 939} , running reward: -107240.00 at episode 2400, frame count 17000\n",
      "A: {1: 10303, 2: 3726, 5: 998, 4: 990, 3: 939} , running reward: -106920.00 at episode 2440, frame count 17200\n",
      "A: {1: 10459, 2: 3766, 5: 998, 4: 990, 3: 939} , running reward: -106100.00 at episode 2480, frame count 17400\n",
      "A: {1: 10604, 2: 3817, 5: 998, 4: 990, 3: 939} , running reward: -105020.00 at episode 2520, frame count 17600\n",
      "A: {1: 10746, 2: 3870, 5: 998, 4: 990, 3: 939} , running reward: -103940.00 at episode 2570, frame count 17800\n",
      "A: {1: 10891, 2: 3921, 5: 998, 4: 990, 3: 939} , running reward: -102880.00 at episode 2610, frame count 18000\n",
      "A: {1: 11040, 2: 3968, 5: 998, 4: 990, 3: 939} , running reward: -102220.00 at episode 2650, frame count 18200\n",
      "A: {1: 11187, 2: 4017, 5: 998, 4: 990, 3: 939} , running reward: -101640.00 at episode 2690, frame count 18400\n",
      "A: {1: 11338, 2: 4062, 5: 998, 4: 990, 3: 939} , running reward: -100960.00 at episode 2730, frame count 18600\n",
      "A: {1: 11483, 2: 4113, 5: 998, 4: 990, 3: 939} , running reward: -100200.00 at episode 2770, frame count 18800\n",
      "A: {1: 11633, 2: 4159, 5: 998, 4: 990, 3: 939} , running reward: -99440.00 at episode 2810, frame count 19000\n",
      "A: {1: 11783, 2: 4205, 5: 998, 4: 990, 3: 939} , running reward: -99000.00 at episode 2850, frame count 19200\n",
      "A: {1: 11933, 2: 4251, 5: 998, 4: 990, 3: 939} , running reward: -98700.00 at episode 2890, frame count 19400\n",
      "A: {1: 12085, 2: 4295, 5: 998, 4: 990, 3: 939} , running reward: -98440.00 at episode 2930, frame count 19600\n",
      "A: {1: 12239, 2: 4337, 5: 998, 4: 990, 3: 939} , running reward: -97800.00 at episode 2970, frame count 19800\n",
      "A: {1: 12349, 2: 4423, 5: 998, 4: 990, 3: 939} , running reward: -98340.00 at episode 3010, frame count 20000\n",
      "A: {1: 12497, 2: 4472, 5: 998, 4: 990, 3: 939} , running reward: -98200.00 at episode 3040, frame count 20200\n",
      "A: {1: 12642, 2: 4523, 5: 998, 4: 990, 3: 939} , running reward: -97900.00 at episode 3080, frame count 20400\n",
      "A: {1: 12788, 2: 4573, 5: 998, 4: 990, 3: 939} , running reward: -97900.00 at episode 3120, frame count 20600\n",
      "A: {1: 12914, 2: 4643, 5: 998, 4: 990, 3: 939} , running reward: -98900.00 at episode 3160, frame count 20800\n",
      "A: {1: 13040, 2: 4714, 5: 998, 4: 990, 3: 939} , running reward: -100140.00 at episode 3190, frame count 21000\n",
      "A: {1: 13187, 2: 4763, 5: 998, 4: 990, 3: 939} , running reward: -100140.00 at episode 3230, frame count 21200\n",
      "A: {1: 13617, 2: 4922, 5: 998, 4: 990, 3: 939} , running reward: -101260.00 at episode 3340, frame count 21800\n",
      "A: {1: 13758, 2: 4977, 5: 998, 4: 990, 3: 939} , running reward: -101680.00 at episode 3380, frame count 22000\n",
      "A: {1: 13918, 2: 5013, 5: 998, 4: 990, 3: 939} , running reward: -101800.00 at episode 3420, frame count 22200\n",
      "A: {1: 14035, 2: 5093, 5: 998, 4: 990, 3: 939} , running reward: -102520.00 at episode 3450, frame count 22400\n",
      "A: {1: 14179, 2: 5145, 5: 998, 4: 990, 3: 939} , running reward: -103060.00 at episode 3490, frame count 22600\n",
      "A: {1: 14292, 2: 5229, 5: 998, 4: 990, 3: 939} , running reward: -104740.00 at episode 3520, frame count 22800\n",
      "A: {1: 14438, 2: 5280, 5: 998, 4: 990, 3: 939} , running reward: -105900.00 at episode 3550, frame count 23000\n",
      "A: {1: 14588, 2: 5326, 5: 998, 4: 990, 3: 939} , running reward: -106280.00 at episode 3590, frame count 23200\n",
      "A: {1: 14734, 2: 5375, 5: 998, 4: 990, 3: 940} , running reward: -106700.00 at episode 3630, frame count 23400\n",
      "A: {1: 14888, 2: 5417, 5: 998, 4: 990, 3: 940} , running reward: -106920.00 at episode 3670, frame count 23600\n",
      "A: {1: 15038, 2: 5463, 5: 998, 4: 990, 3: 940} , running reward: -107720.00 at episode 3710, frame count 23800\n",
      "A: {1: 15164, 2: 5534, 5: 998, 4: 990, 3: 940} , running reward: -108160.00 at episode 3740, frame count 24000\n",
      "A: {1: 15283, 2: 5611, 5: 998, 4: 990, 3: 940} , running reward: -109340.00 at episode 3780, frame count 24200\n",
      "A: {1: 15398, 2: 5693, 5: 998, 4: 990, 3: 940} , running reward: -111360.00 at episode 3810, frame count 24400\n",
      "A: {1: 15542, 2: 5746, 5: 998, 4: 990, 3: 940} , running reward: -111860.00 at episode 3840, frame count 24600\n",
      "A: {1: 15685, 2: 5799, 5: 998, 4: 990, 3: 940} , running reward: -111680.00 at episode 3880, frame count 24800\n",
      "A: {1: 15840, 2: 5837, 5: 998, 4: 990, 3: 943} , running reward: -112840.00 at episode 3920, frame count 25000\n",
      "A: {1: 15987, 2: 5886, 5: 998, 4: 990, 3: 944} , running reward: -113180.00 at episode 3950, frame count 25200\n",
      "A: {1: 16114, 2: 5953, 5: 998, 4: 990, 3: 946} , running reward: -113340.00 at episode 3990, frame count 25400\n",
      "A: {1: 16253, 2: 6011, 5: 998, 4: 990, 3: 946} , running reward: -113700.00 at episode 4020, frame count 25600\n",
      "A: {1: 16404, 2: 6054, 5: 998, 4: 990, 3: 949} , running reward: -114440.00 at episode 4050, frame count 25800\n",
      "A: {1: 16550, 2: 6103, 5: 998, 4: 990, 3: 950} , running reward: -115220.00 at episode 4090, frame count 26000\n",
      "A: {1: 16693, 2: 6156, 5: 998, 4: 990, 3: 950} , running reward: -115400.00 at episode 4130, frame count 26200\n",
      "A: {1: 16871, 2: 6173, 5: 998, 4: 990, 3: 953} , running reward: -114820.00 at episode 4150, frame count 26400\n",
      "A: {1: 17010, 2: 6229, 5: 998, 4: 990, 3: 954} , running reward: -116600.00 at episode 4190, frame count 26600\n",
      "A: {1: 17155, 2: 6278, 5: 998, 4: 990, 3: 956} , running reward: -117020.00 at episode 4230, frame count 26800\n",
      "A: {1: 17329, 2: 6298, 5: 998, 4: 990, 3: 960} , running reward: -118920.00 at episode 4250, frame count 27000\n",
      "A: {1: 17461, 2: 6363, 5: 998, 4: 990, 3: 960} , running reward: -120940.00 at episode 4280, frame count 27200\n",
      "A: {1: 17618, 2: 6399, 5: 998, 4: 990, 3: 963} , running reward: -122260.00 at episode 4320, frame count 27400\n",
      "A: {1: 17753, 2: 6455, 5: 998, 4: 990, 3: 970} , running reward: -123060.00 at episode 4340, frame count 27600\n",
      "A: {1: 17903, 2: 6495, 5: 998, 4: 990, 3: 977} , running reward: -125080.00 at episode 4370, frame count 27800\n",
      "A: {1: 18057, 2: 6532, 5: 998, 4: 990, 3: 983} , running reward: -126880.00 at episode 4400, frame count 28000\n",
      "A: {1: 18219, 2: 6563, 5: 998, 4: 990, 3: 987} , running reward: -129200.00 at episode 4430, frame count 28200\n",
      "A: {1: 18343, 2: 6634, 5: 998, 4: 990, 3: 989} , running reward: -129060.00 at episode 4460, frame count 28400\n",
      "A: {1: 18493, 2: 6675, 5: 998, 4: 990, 3: 995} , running reward: -130480.00 at episode 4490, frame count 28600\n",
      "A: {1: 18667, 2: 6695, 5: 998, 4: 990, 3: 999} , running reward: -132280.00 at episode 4510, frame count 28800\n",
      "A: {1: 18833, 2: 6721, 5: 998, 4: 990, 3: 1005} , running reward: -133200.00 at episode 4530, frame count 29000\n",
      "A: {1: 18999, 2: 6746, 5: 998, 4: 990, 3: 1012} , running reward: -137640.00 at episode 4550, frame count 29200\n",
      "A: {1: 19308, 2: 6822, 5: 998, 4: 990, 3: 1021} , running reward: -142260.00 at episode 4610, frame count 29600\n",
      "A: {1: 19465, 2: 6855, 5: 998, 4: 990, 3: 1028} , running reward: -144620.00 at episode 4640, frame count 29800\n",
      "A: {1: 19614, 2: 6898, 5: 998, 4: 990, 3: 1033} , running reward: -145900.00 at episode 4670, frame count 30000\n",
      "A: {1: 19754, 2: 6948, 5: 998, 4: 990, 3: 1040} , running reward: -146680.00 at episode 4700, frame count 30200\n",
      "A: {1: 19880, 2: 7016, 5: 998, 4: 990, 3: 1043} , running reward: -147580.00 at episode 4730, frame count 30400\n",
      "A: {1: 20037, 2: 7055, 5: 998, 4: 990, 3: 1045} , running reward: -149860.00 at episode 4750, frame count 30600\n",
      "A: {1: 20194, 2: 7092, 5: 998, 4: 990, 3: 1048} , running reward: -151840.00 at episode 4780, frame count 30800\n",
      "A: {1: 20362, 2: 7118, 5: 998, 4: 990, 3: 1052} , running reward: -155460.00 at episode 4800, frame count 31000\n",
      "A: {1: 20526, 2: 7147, 5: 998, 4: 990, 3: 1057} , running reward: -157680.00 at episode 4820, frame count 31200\n",
      "A: {1: 20670, 2: 7199, 5: 998, 4: 990, 3: 1058} , running reward: -157900.00 at episode 4850, frame count 31400\n",
      "A: {1: 20838, 2: 7224, 5: 998, 4: 990, 3: 1063} , running reward: -161220.00 at episode 4870, frame count 31600\n",
      "A: {1: 21004, 2: 7252, 5: 998, 4: 990, 3: 1067} , running reward: -165500.00 at episode 4890, frame count 31800\n",
      "A: {1: 21154, 2: 7294, 5: 998, 4: 990, 3: 1072} , running reward: -165080.00 at episode 4920, frame count 32000\n",
      "A: {1: 21304, 2: 7336, 5: 998, 4: 990, 3: 1078} , running reward: -168440.00 at episode 4940, frame count 32200\n",
      "A: {1: 21463, 2: 7370, 5: 998, 4: 990, 3: 1082} , running reward: -171520.00 at episode 4970, frame count 32400\n",
      "A: {1: 21583, 2: 7447, 5: 998, 4: 990, 3: 1082} , running reward: -171900.00 at episode 5000, frame count 32600\n",
      "A: {1: 21728, 2: 7491, 5: 998, 4: 990, 3: 1091} , running reward: -175100.00 at episode 5020, frame count 32800\n",
      "A: {1: 21872, 2: 7537, 5: 998, 4: 990, 3: 1098} , running reward: -175760.00 at episode 5050, frame count 33000\n",
      "A: {1: 22014, 2: 7588, 5: 998, 4: 990, 3: 1102} , running reward: -176240.00 at episode 5080, frame count 33200\n",
      "A: {1: 22172, 2: 7621, 5: 998, 4: 990, 3: 1109} , running reward: -178600.00 at episode 5100, frame count 33400\n",
      "A: {1: 22331, 2: 7656, 5: 998, 4: 990, 3: 1112} , running reward: -181200.00 at episode 5130, frame count 33600\n",
      "A: {1: 22486, 2: 7694, 5: 998, 4: 990, 3: 1117} , running reward: -183040.00 at episode 5150, frame count 33800\n",
      "A: {1: 22655, 2: 7719, 5: 998, 4: 990, 3: 1121} , running reward: -183100.00 at episode 5170, frame count 34000\n",
      "A: {1: 22806, 2: 7758, 5: 998, 4: 990, 3: 1128} , running reward: -184980.00 at episode 5200, frame count 34200\n",
      "A: {1: 22952, 2: 7803, 5: 998, 4: 990, 3: 1134} , running reward: -187340.00 at episode 5230, frame count 34400\n",
      "A: {1: 23116, 2: 7832, 5: 998, 4: 990, 3: 1139} , running reward: -187920.00 at episode 5250, frame count 34600\n",
      "A: {1: 23285, 2: 7856, 5: 998, 4: 990, 3: 1144} , running reward: -187860.00 at episode 5270, frame count 34800\n",
      "A: {1: 23434, 2: 7898, 5: 998, 4: 990, 3: 1150} , running reward: -191020.00 at episode 5300, frame count 35000\n",
      "A: {1: 23596, 2: 7933, 5: 998, 4: 990, 3: 1151} , running reward: -193360.00 at episode 5320, frame count 35200\n",
      "A: {1: 23753, 2: 7967, 5: 998, 4: 990, 3: 1157} , running reward: -193360.00 at episode 5350, frame count 35400\n",
      "A: {1: 23893, 2: 8020, 5: 998, 4: 990, 3: 1161} , running reward: -192800.00 at episode 5380, frame count 35600\n",
      "A: {1: 24043, 2: 8061, 5: 998, 4: 990, 3: 1167} , running reward: -192780.00 at episode 5410, frame count 35800\n",
      "A: {1: 24211, 2: 8088, 5: 998, 4: 990, 3: 1170} , running reward: -192480.00 at episode 5430, frame count 36000\n",
      "A: {1: 24336, 2: 8152, 5: 998, 4: 990, 3: 1178} , running reward: -195140.00 at episode 5460, frame count 36200\n",
      "A: {1: 24466, 2: 8217, 5: 998, 4: 990, 3: 1180} , running reward: -194300.00 at episode 5490, frame count 36400\n",
      "A: {1: 24615, 2: 8260, 5: 998, 4: 990, 3: 1185} , running reward: -192340.00 at episode 5520, frame count 36600\n",
      "A: {1: 24776, 2: 8293, 5: 998, 4: 990, 3: 1189} , running reward: -193480.00 at episode 5540, frame count 36800\n",
      "A: {1: 24941, 2: 8322, 5: 998, 4: 990, 3: 1193} , running reward: -189380.00 at episode 5560, frame count 37000\n",
      "A: {1: 25085, 2: 8366, 5: 998, 4: 990, 3: 1202} , running reward: -193660.00 at episode 5590, frame count 37200\n",
      "A: {1: 25085, 2: 8528, 5: 998, 4: 990, 3: 1240} , running reward: -193660.00 at episode 5590, frame count 37400\n",
      "A: {1: 25085, 2: 8728, 5: 998, 4: 990, 3: 1240} , running reward: -193660.00 at episode 5590, frame count 37600\n",
      "A: {1: 25085, 2: 8928, 5: 998, 4: 990, 3: 1240} , running reward: -193660.00 at episode 5590, frame count 37800\n",
      "A: {1: 25085, 2: 9128, 5: 998, 4: 990, 3: 1240} , running reward: -193660.00 at episode 5590, frame count 38000\n",
      "A: {1: 25164, 2: 9239, 5: 998, 4: 990, 3: 1249} , running reward: -190760.00 at episode 5600, frame count 38200\n",
      "A: {1: 25319, 2: 9270, 5: 998, 4: 990, 3: 1260} , running reward: -191040.00 at episode 5630, frame count 38400\n",
      "A: {1: 25477, 2: 9302, 5: 998, 4: 990, 3: 1268} , running reward: -190600.00 at episode 5650, frame count 38600\n",
      "A: {1: 25630, 2: 9338, 5: 998, 4: 990, 3: 1276} , running reward: -193160.00 at episode 5680, frame count 38800\n",
      "A: {1: 25800, 2: 9362, 5: 998, 4: 990, 3: 1280} , running reward: -196720.00 at episode 5700, frame count 39000\n",
      "A: {1: 25963, 2: 9394, 5: 998, 4: 990, 3: 1283} , running reward: -198440.00 at episode 5720, frame count 39200\n",
      "A: {1: 26134, 2: 9416, 5: 998, 4: 990, 3: 1288} , running reward: -199920.00 at episode 5740, frame count 39400\n",
      "A: {1: 26294, 2: 9450, 5: 998, 4: 990, 3: 1292} , running reward: -198040.00 at episode 5760, frame count 39600\n",
      "A: {1: 26422, 2: 9513, 5: 998, 4: 990, 3: 1298} , running reward: -198240.00 at episode 5790, frame count 39800\n",
      "A: {1: 26548, 2: 9582, 5: 998, 4: 990, 3: 1299} , running reward: -193680.00 at episode 5830, frame count 40000\n",
      "A: {1: 26680, 2: 9642, 5: 998, 4: 990, 3: 1304} , running reward: -193520.00 at episode 5860, frame count 40200\n",
      "A: {1: 26848, 2: 9664, 5: 998, 4: 990, 3: 1312} , running reward: -191120.00 at episode 5880, frame count 40400\n",
      "A: {1: 26883, 2: 9828, 5: 998, 4: 990, 3: 1312} , running reward: -189900.00 at episode 5890, frame count 40600\n",
      "A: {1: 26883, 2: 10028, 5: 998, 4: 990, 3: 1312} , running reward: -189900.00 at episode 5890, frame count 40800\n",
      "A: {1: 26883, 2: 10228, 5: 998, 4: 990, 3: 1312} , running reward: -189900.00 at episode 5890, frame count 41000\n",
      "A: {1: 26883, 2: 10428, 5: 998, 4: 990, 3: 1312} , running reward: -189900.00 at episode 5890, frame count 41200\n",
      "A: {1: 26883, 2: 10628, 5: 998, 4: 990, 3: 1312} , running reward: -189900.00 at episode 5890, frame count 41400\n",
      "A: {1: 26883, 2: 10828, 5: 998, 4: 990, 3: 1312} , running reward: -189900.00 at episode 5890, frame count 41600\n",
      "A: {1: 26883, 2: 11028, 5: 998, 4: 990, 3: 1312} , running reward: -189900.00 at episode 5890, frame count 41800\n",
      "A: {1: 26883, 2: 11228, 5: 998, 4: 990, 3: 1312} , running reward: -189900.00 at episode 5890, frame count 42000\n",
      "A: {1: 26883, 2: 11428, 5: 998, 4: 990, 3: 1312} , running reward: -189900.00 at episode 5890, frame count 42200\n",
      "A: {1: 26883, 2: 11628, 5: 998, 4: 990, 3: 1312} , running reward: -189900.00 at episode 5890, frame count 42400\n",
      "A: {1: 26883, 2: 11818, 5: 998, 4: 990, 3: 1322} , running reward: -189900.00 at episode 5890, frame count 42600\n",
      "A: {1: 26883, 2: 12018, 5: 998, 4: 990, 3: 1322} , running reward: -189900.00 at episode 5890, frame count 42800\n",
      "A: {1: 26883, 2: 12218, 5: 998, 4: 990, 3: 1322} , running reward: -189900.00 at episode 5890, frame count 43000\n",
      "A: {1: 26883, 2: 12418, 5: 998, 4: 990, 3: 1322} , running reward: -189900.00 at episode 5890, frame count 43200\n",
      "A: {1: 26883, 2: 12618, 5: 998, 4: 990, 3: 1322} , running reward: -189900.00 at episode 5890, frame count 43400\n",
      "A: {1: 26883, 2: 12818, 5: 998, 4: 990, 3: 1322} , running reward: -189900.00 at episode 5890, frame count 43600\n",
      "A: {1: 26883, 2: 13018, 5: 998, 4: 990, 3: 1322} , running reward: -189900.00 at episode 5890, frame count 43800\n",
      "A: {1: 26883, 2: 13218, 5: 998, 4: 990, 3: 1322} , running reward: -189900.00 at episode 5890, frame count 44000\n",
      "A: {1: 26883, 2: 13418, 5: 998, 4: 990, 3: 1322} , running reward: -189900.00 at episode 5890, frame count 44200\n",
      "A: {1: 26883, 2: 13618, 5: 998, 4: 990, 3: 1322} , running reward: -189900.00 at episode 5890, frame count 44400\n",
      "A: {1: 26883, 2: 13818, 5: 998, 4: 990, 3: 1322} , running reward: -189900.00 at episode 5890, frame count 44600\n",
      "A: {1: 26883, 2: 14018, 5: 998, 4: 990, 3: 1322} , running reward: -189900.00 at episode 5890, frame count 44800\n",
      "A: {1: 26883, 2: 14218, 5: 998, 4: 990, 3: 1322} , running reward: -189900.00 at episode 5890, frame count 45000\n",
      "A: {1: 26883, 2: 14418, 5: 998, 4: 990, 3: 1322} , running reward: -189900.00 at episode 5890, frame count 45200\n",
      "A: {1: 26883, 2: 14618, 5: 998, 4: 990, 3: 1322} , running reward: -189900.00 at episode 5890, frame count 45400\n",
      "A: {1: 26883, 2: 14818, 5: 998, 4: 990, 3: 1322} , running reward: -189900.00 at episode 5890, frame count 45600\n",
      "A: {1: 26883, 2: 15018, 5: 998, 4: 990, 3: 1322} , running reward: -189900.00 at episode 5890, frame count 45800\n",
      "A: {1: 26883, 2: 15218, 5: 998, 4: 990, 3: 1322} , running reward: -189900.00 at episode 5890, frame count 46000\n",
      "A: {1: 26883, 2: 15418, 5: 998, 4: 990, 3: 1322} , running reward: -189900.00 at episode 5890, frame count 46200\n",
      "A: {1: 26883, 2: 15568, 5: 998, 4: 990, 3: 1372} , running reward: -189900.00 at episode 5890, frame count 46400\n",
      "A: {1: 26989, 2: 15618, 5: 1008, 4: 990, 3: 1403} , running reward: 51540.00 at episode 5920, frame count 46600\n",
      "A: {1: 27153, 2: 15639, 5: 1012, 4: 990, 3: 1411} , running reward: 53500.00 at episode 5950, frame count 46800\n",
      "A: {1: 27311, 2: 15676, 5: 1012, 4: 990, 3: 1414} , running reward: 53920.00 at episode 5970, frame count 47000\n"
     ]
    },
    {
     "name": "stderr",
     "output_type": "stream",
     "text": [
      "Traceback (most recent call last):\n",
      "  File \"C:\\Users\\carlo\\AppData\\Local\\Temp/ipykernel_14956/1123093062.py\", line 58, in <module>\n",
      "    env.step()\n",
      "  File \"C:\\Users\\carlo\\anaconda3\\lib\\site-packages\\mlagents_envs\\timers.py\", line 305, in wrapped\n",
      "    return func(*args, **kwargs)\n",
      "  File \"C:\\Users\\carlo\\anaconda3\\lib\\site-packages\\mlagents_envs\\environment.py\", line 333, in step\n",
      "    outputs = self._communicator.exchange(step_input, self._poll_process)\n",
      "  File \"C:\\Users\\carlo\\anaconda3\\lib\\site-packages\\mlagents_envs\\rpc_communicator.py\", line 137, in exchange\n",
      "    self.poll_for_timeout(poll_callback)\n",
      "  File \"C:\\Users\\carlo\\anaconda3\\lib\\site-packages\\mlagents_envs\\rpc_communicator.py\", line 103, in poll_for_timeout\n",
      "    if self.unity_to_external.parent_conn.poll(callback_timeout_wait):\n",
      "  File \"C:\\Users\\carlo\\anaconda3\\lib\\multiprocessing\\connection.py\", line 257, in poll\n",
      "    return self._poll(timeout)\n",
      "  File \"C:\\Users\\carlo\\anaconda3\\lib\\multiprocessing\\connection.py\", line 330, in _poll\n",
      "    return bool(wait([self], timeout))\n",
      "  File \"C:\\Users\\carlo\\anaconda3\\lib\\multiprocessing\\connection.py\", line 879, in wait\n",
      "    ready_handles = _exhaustive_wait(waithandle_to_obj.keys(), timeout)\n",
      "  File \"C:\\Users\\carlo\\anaconda3\\lib\\multiprocessing\\connection.py\", line 811, in _exhaustive_wait\n",
      "    res = _winapi.WaitForMultipleObjects(L, False, timeout)\n",
      "KeyboardInterrupt\n"
     ]
    },
    {
     "name": "stdout",
     "output_type": "stream",
     "text": [
      "None\n"
     ]
    }
   ],
   "source": [
    "env = UnityEnvironment(file_name=\"Alpha Romeo\", seed=1, side_channels=[], worker_id=2)\n",
    "\n",
    "log_folder = 'logs/{}'.format(datetime.datetime.now().strftime(\"%Y%m%d-%H%M%S\"))\n",
    "writer = tf.summary.create_file_writer(log_folder)\n",
    "\n",
    "# tf.debugging.experimental.enable_dump_debug_info(log_folder, tensor_debug_mode=\"FULL_HEALTH\", circular_buffer_size=-1)\n",
    "\n",
    "try:\n",
    "    while True:  # Run until solvedloss_function\n",
    "        with writer.as_default():\n",
    "            env.reset()\n",
    "            done = False\n",
    "            decision_steps, terminal_steps = env.get_steps(behavior_name)\n",
    "            if decision_steps:\n",
    "                state_conv = decision_steps[0].obs[0]\n",
    "                state_num = decision_steps[0].obs[1]\n",
    "            if terminal_steps:\n",
    "                done = True                \n",
    "                state_conv = decision_steps[0].obs[0]\n",
    "                state_numerical = decision_steps[0].obs[1]\n",
    "                         \n",
    "            episode_reward = 0\n",
    "\n",
    "            for timestep in range(1, max_steps_per_episode):\n",
    "                # env.render(); Adding this line would show the attempts\n",
    "                # of the agent in a pop up window.\n",
    "                frame_count += 1\n",
    "\n",
    "                # Use epsilon-greedy for exploration\n",
    "                if  frame_count < epsilon_random_frames and epsilon > np.random.rand(1)[0]:\n",
    "                    # Take random action\n",
    "                    action = random.choice([1,2,3,4,5])\n",
    "                    \n",
    "                else:\n",
    "                    # Predict action Q-values\n",
    "                    # From environment state\n",
    "                    state_conv_tensor = tf.convert_to_tensor(state_conv)\n",
    "                    state_num_tensor = tf.convert_to_tensor(state_num)\n",
    "                    state_conv_tensor = tf.expand_dims(state_conv_tensor, 0)\n",
    "                    state_num_tensor = tf.expand_dims(state_num_tensor, 0)\n",
    "                    action_probs = model([state_conv_tensor, state_num_tensor], training=False)\n",
    "                    # Take best action\n",
    "                    action = action_probs[0]\n",
    "                    action = int(tf.argmax(action)+1)\n",
    "                    \n",
    "\n",
    "                # Decay probability of taking random action\n",
    "                epsilon -= epsilon_interval / epsilon_greedy_frames\n",
    "                epsilon = max(epsilon, epsilon_min)\n",
    "\n",
    "                # Apply the sampled action in our environment\n",
    "\n",
    "                action_tuple = ActionTuple()\n",
    "                action_tuple.add_discrete(np.array([[action]]))\n",
    "                \n",
    "                env.set_actions(behavior_name, action_tuple)\n",
    "                \n",
    "                env.step()\n",
    "\n",
    "                decision_steps, terminal_steps = env.get_steps(behavior_name)\n",
    "\n",
    "                if terminal_steps:\n",
    "                    done = True\n",
    "                    env.reset()\n",
    "                    decision_steps, terminal_steps = env.get_steps(behavior_name)\n",
    "                    state_conv_next = decision_steps[0].obs[0]\n",
    "                    state_num_next = decision_steps[0].obs[1]\n",
    "    #                 decision_steps, terminal_steps = env.get_steps(behavior_name)\n",
    "                    break\n",
    "\n",
    "                else:\n",
    "                    state_conv_next = decision_steps[0].obs[0]\n",
    "                    state_num_next = decision_steps[0].obs[1]\n",
    "\n",
    "\n",
    "                reward = decision_steps[0].reward\n",
    "        #         state_next = np.array(state_next)\n",
    "\n",
    "                episode_reward += reward\n",
    "                # Save actions and states in replay buffer\n",
    "                action_history.append(action)\n",
    "                state_conv_history.append(state_conv)\n",
    "                state_num_history.append(state_num)\n",
    "                state_conv_next_history.append(state_conv_next)\n",
    "                state_num_next_history.append(state_num_next)\n",
    "                done_history.append(done) \n",
    "                rewards_history.append(reward)\n",
    "                state_conv = state_conv_next\n",
    "                state_num = state_num_next\n",
    "\n",
    "                # Update every fourth frame and once batch size is over 32\n",
    "                if frame_count % update_after_actions == 0 and len(done_history) > batch_size:\n",
    "\n",
    "                    # Selecionar índices aleatóriamente\n",
    "                    indices = np.random.choice(range(len(done_history)), size=batch_size)\n",
    "\n",
    "                    # Usando list comprehension para buscar os valores dos índices selecionados\n",
    "                    state_conv_sample = np.array([state_conv_history[i] for i in indices])\n",
    "                    state_num_sample = np.array([state_num_history[i] for i in indices])\n",
    "                    state_conv_next_sample = np.array([state_conv_next_history[i] for i in indices])\n",
    "                    state_num_next_sample = np.array([state_num_next_history[i] for i in indices])\n",
    "                    rewards_sample = [rewards_history[i] for i in indices]\n",
    "                    action_sample = [action_history[i] for i in indices]\n",
    "                    done_sample = tf.convert_to_tensor(\n",
    "                        [float(done_history[i]) for i in indices]\n",
    "                    )\n",
    "\n",
    "                    # Build the updated Q-values for the sampled future states\n",
    "                    # Use the target model for stability\n",
    "                    state_num_next_sample = tf.reshape(state_num_next_sample, [-1, 2])\n",
    "                    future_rewards = model_target.predict([np.array(state_conv_next_sample), np.array(state_num_next_sample)])\n",
    "\n",
    "                    # Q value = reward + discount factor * expected future reward\n",
    "                    updated_q_values = rewards_sample + gamma * tf.reduce_max(\n",
    "                        future_rewards, axis=1\n",
    "                    )\n",
    "\n",
    "                    # If final frame set the last value to -1\n",
    "                    updated_q_values = updated_q_values * (1 - done_sample) - done_sample\n",
    "\n",
    "                    # Create a mask so we only calculate loss on the updated Q-values\n",
    "\n",
    "                    masks = tf.one_hot(action_sample, num_actions)\n",
    "\n",
    "                    with tf.GradientTape() as tape:\n",
    "                        # Train the model on the states and updated Q-values\n",
    "                        q_values = model([np.array(state_conv_sample), np.array(state_num_sample)])\n",
    "\n",
    "\n",
    "                        # Apply the masks to the Q-values to get the Q-value for action taken\n",
    "                        q_action = tf.reduce_sum(tf.multiply(q_values, masks), axis=1)\n",
    "\n",
    "                        # Calculate loss between new Q-value and old Q-value\n",
    "\n",
    "                        loss = loss_function(updated_q_values, q_action)\n",
    "\n",
    "                    # Backpropagation\n",
    "                    grads = tape.gradient(loss, model.trainable_variables)\n",
    "                    optimizer.apply_gradients(zip(grads, model.trainable_variables))\n",
    "\n",
    "                if frame_count % update_target_network == 0:\n",
    "                    # update the the target network with new weights\n",
    "                    model_target.set_weights(model.get_weights())\n",
    "                    # Log details\n",
    "                    template = \"A: {} , running reward: {:.2f} at episode {}, frame count {}\"\n",
    "                    print(template.format(dict(Counter(action_history)), running_reward, episode_count, frame_count))\n",
    "                    tf.summary.scalar(name=\"reward\", data=running_reward, step=episode_count)\n",
    "                    tf.summary.scalar(name=\"epsilon\", data=epsilon, step=episode_count)\n",
    "                    tf.summary.scalar(name=\"frame_count\", data=frame_count, step=episode_count)\n",
    "                    dqn_variable = model.trainable_variables\n",
    "                    tf.summary.histogram(name=\"dqn_variables\", data=tf.convert_to_tensor(dqn_variable[0]), step=episode_count)\n",
    "                    tf.summary.histogram(name=\"actions\", data=action, step=episode_count)\n",
    "#                     convs = np.reshape(model.layers[4].get_weights()[0], (-1, 9, 9, 1))\n",
    "#                     tf.summary.image(\"Training data\", data=convs[:5, :, :, :], step=episode_count)\n",
    "                    writer.flush()\n",
    "                    \n",
    "            # Limit the state and reward history\n",
    "            if len(rewards_history) > max_memory_length:\n",
    "                del rewards_history[:1]\n",
    "                del state_conv_history[:1]\n",
    "                del state_num_history[:1]\n",
    "                del state_conv_next_history[:1]\n",
    "                del state_num_next_history[:1]\n",
    "                del action_history[:1]\n",
    "                del done_history[:1]\n",
    "\n",
    "            if done:\n",
    "                env.reset()\n",
    "                done = False\n",
    "\n",
    "\n",
    "            # Update running reward to check condition for solving\n",
    "            episode_reward_history.append(episode_reward)\n",
    "            if len(episode_reward_history) > 100:\n",
    "                del episode_reward_history[:1]\n",
    "            running_reward = np.mean(episode_reward_history)\n",
    "\n",
    "            episode_count += 10\n",
    "\n",
    "            if running_reward > 500000:  # Condition to consider the task solved\n",
    "                print(\"Solved at episode {}!\".format(episode_count))\n",
    "                writer.close()\n",
    "                env.close()\n",
    "                break\n",
    "except:\n",
    "    print(traceback.print_exc())\n",
    "    writer.close()\n",
    "    env.close()"
   ]
  },
  {
   "cell_type": "code",
   "execution_count": 53,
   "id": "03878b85-b224-48fb-a117-9496d997d8b1",
   "metadata": {},
   "outputs": [
    {
     "data": {
      "text/plain": [
       "[<keras.engine.input_layer.InputLayer at 0x20b204851c0>,\n",
       " <keras.layers.convolutional.Conv2D at 0x20b20485070>,\n",
       " <keras.layers.convolutional.Conv2D at 0x20b20485640>,\n",
       " <keras.engine.input_layer.InputLayer at 0x20a843a1d90>,\n",
       " <keras.layers.convolutional.Conv2D at 0x20a843d64c0>,\n",
       " <keras.layers.core.dense.Dense at 0x20b3dd54fa0>,\n",
       " <keras.layers.core.flatten.Flatten at 0x20a843d65e0>,\n",
       " <keras.layers.core.dense.Dense at 0x20a840666a0>,\n",
       " <keras.layers.merge.Concatenate at 0x20a8670d970>,\n",
       " <keras.layers.core.dense.Dense at 0x20a843a18b0>,\n",
       " <keras.layers.core.dense.Dense at 0x20ab09cebe0>]"
      ]
     },
     "execution_count": 53,
     "metadata": {},
     "output_type": "execute_result"
    }
   ],
   "source": [
    "model.layers"
   ]
  },
  {
   "cell_type": "code",
   "execution_count": 36,
   "id": "887f76a6-4fb8-4396-9bea-f51b4b4ddce6",
   "metadata": {},
   "outputs": [],
   "source": [
    "import matplotlib.pyplot as plt\n",
    "import numpy as np"
   ]
  },
  {
   "cell_type": "code",
   "execution_count": 38,
   "id": "1284dd2c-deb1-4f9d-937c-8b8ede2db087",
   "metadata": {},
   "outputs": [
    {
     "data": {
      "text/plain": [
       "(9, 9, 128, 128)"
      ]
     },
     "execution_count": 38,
     "metadata": {},
     "output_type": "execute_result"
    }
   ],
   "source": [
    "model.layers[4].get_weights()[0].shape"
   ]
  },
  {
   "cell_type": "code",
   "execution_count": 46,
   "id": "77aa333a-d23d-47a9-afb6-31c30f89e34f",
   "metadata": {},
   "outputs": [],
   "source": [
    "resh = np.reshape(model.layers[4].get_weights()[0], (-1, 9, 9, 1))"
   ]
  },
  {
   "cell_type": "code",
   "execution_count": 43,
   "id": "44b5b110-97bb-4594-8ab0-2ed415ead810",
   "metadata": {},
   "outputs": [
    {
     "data": {
      "text/plain": [
       "<matplotlib.image.AxesImage at 0x163bc633fd0>"
      ]
     },
     "execution_count": 43,
     "metadata": {},
     "output_type": "execute_result"
    },
    {
     "data": {
      "image/png": "[encoded data removed]",
      "text/plain": [
       "<Figure size 432x288 with 1 Axes>"
      ]
     },
     "metadata": {
      "needs_background": "light"
     },
     "output_type": "display_data"
    }
   ],
   "source": [
    "# for i in \n",
    "plt.imshow(model.layers[4].get_weights()[0][:,:,127,127])"
   ]
  },
  {
   "cell_type": "code",
   "execution_count": 79,
   "id": "d5325bd9-08a6-41ed-880a-1a15939371fc",
   "metadata": {},
   "outputs": [
    {
     "data": {
      "text/plain": [
       "<matplotlib.image.AxesImage at 0x2016d6c7e20>"
      ]
     },
     "execution_count": 79,
     "metadata": {},
     "output_type": "execute_result"
    },
    {
     "data": {
      "image/png": "[encoded data removed]",
      "text/plain": [
       "<Figure size 432x288 with 1 Axes>"
      ]
     },
     "metadata": {
      "needs_background": "light"
     },
     "output_type": "display_data"
    }
   ],
   "source": [
    "plt.imshow(state_history[0], cmap='gray')"
   ]
  },
  {
   "cell_type": "code",
   "execution_count": 47,
   "id": "243fdad0-a46a-4d37-8c77-b1333e1a462b",
   "metadata": {},
   "outputs": [
    {
     "data": {
      "text/plain": [
       "(16384, 9, 9, 1)"
      ]
     },
     "execution_count": 47,
     "metadata": {},
     "output_type": "execute_result"
    }
   ],
   "source": [
    "resh.shape"
   ]
  },
  {
   "cell_type": "code",
   "execution_count": 53,
   "id": "85d89299-cf79-40a9-8488-b23fd8ef485f",
   "metadata": {},
   "outputs": [
    {
     "data": {
      "text/plain": [
       "<matplotlib.image.AxesImage at 0x163c90ea7c0>"
      ]
     },
     "execution_count": 53,
     "metadata": {},
     "output_type": "execute_result"
    },
    {
     "data": {
      "image/png": "[encoded data removed]",
      "text/plain": [
       "<Figure size 432x288 with 1 Axes>"
      ]
     },
     "metadata": {
      "needs_background": "light"
     },
     "output_type": "display_data"
    }
   ],
   "source": [
    "plt.imshow(resh[6, :,:,:])"
   ]
  },
  {
   "cell_type": "code",
   "execution_count": 10,
   "id": "a08ed861-16d8-4a78-8828-f32c8dea296c",
   "metadata": {},
   "outputs": [],
   "source": [
    "env.close()"
   ]
  }
 ],
 "metadata": {
  "kernelspec": {
   "display_name": "Python 3 (ipykernel)",
   "language": "python",
   "name": "python3"
  },
  "language_info": {
   "codemirror_mode": {
    "name": "ipython",
    "version": 3
   },
   "file_extension": ".py",
   "mimetype": "text/x-python",
   "name": "python",
   "nbconvert_exporter": "python",
   "pygments_lexer": "ipython3",
   "version": "3.8.8"
  }
 },
 "nbformat": 4,
 "nbformat_minor": 5
}
